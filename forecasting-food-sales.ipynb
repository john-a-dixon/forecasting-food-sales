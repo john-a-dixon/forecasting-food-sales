{
  "cells": [
    {
      "attachments": {},
      "cell_type": "markdown",
      "metadata": {
        "id": "_stM8w55KrQ3"
      },
      "source": [
        "<a href=\"https://colab.research.google.com/github/john-a-dixon/forecasting-food-sales/blob/main/forecasting-food-sales.ipynb\" target=\"_parent\"><img src=\"https://colab.research.google.com/assets/colab-badge.svg\" alt=\"Open In Colab\"/></a>\n",
        "\n",
        "# _**Forecasting Food Sales**_\n",
        "\n",
        "###### **by John Andrew Dixon**\n",
        "\n",
        "---\n",
        "\n",
        "## Loading Data\n",
        "\n",
        "#### *Data Dictionary*\n",
        "\n",
        "|**Variable Name**        |**Description**                                                                                    |\n",
        "|-------------------------|---------------------------------------------------------------------------------------------------|\n",
        "|Item_Identifier          |Unique Product ID                                                                                  |\n",
        "|Item_Weight              | Weight of product                                                                                 |\n",
        "|Item_Fat_Content         |Whether the product is low fat or regular                                                          |\n",
        "|Item_Visibility          |The percentage of total display area of all products in a store allocated to the particular product|\n",
        "|Item_Type                |The category to which the product belongs                                                          |\n",
        "|Item_MRP                 |Maximum Retail Price (list price) of the product                                                   |\n",
        "|Outlet_Identifier        |Unique store ID                                                                                    |\n",
        "|Outlet_Establishment_Year|The year in which the store was established                                                        |\n",
        "|Outlet_Size              |\tThe size of the store in terms of ground area covered                                             |\n",
        "|Outlet_Location_Type     |The type of area in which the store is located                                                     |\n",
        "|Outlet_Type              |Whether the outlet is a grocery store or some sort of supermarket                                  |\n",
        "|Item_Outlet_Sales        |Sales of the product in the particular store. This is the target variable to be predicted          |\n",
        "\n",
        "#### *Imports & Load*"
      ]
    },
    {
      "cell_type": "code",
      "execution_count": 93,
      "metadata": {},
      "outputs": [
        {
          "name": "stdout",
          "output_type": "stream",
          "text": [
            "<class 'pandas.core.frame.DataFrame'>\n",
            "RangeIndex: 8523 entries, 0 to 8522\n",
            "Data columns (total 12 columns):\n",
            " #   Column                     Non-Null Count  Dtype  \n",
            "---  ------                     --------------  -----  \n",
            " 0   Item_Identifier            8523 non-null   object \n",
            " 1   Item_Weight                7060 non-null   float64\n",
            " 2   Item_Fat_Content           8523 non-null   object \n",
            " 3   Item_Visibility            8523 non-null   float64\n",
            " 4   Item_Type                  8523 non-null   object \n",
            " 5   Item_MRP                   8523 non-null   float64\n",
            " 6   Outlet_Identifier          8523 non-null   object \n",
            " 7   Outlet_Establishment_Year  8523 non-null   int64  \n",
            " 8   Outlet_Size                6113 non-null   object \n",
            " 9   Outlet_Location_Type       8523 non-null   object \n",
            " 10  Outlet_Type                8523 non-null   object \n",
            " 11  Item_Outlet_Sales          8523 non-null   float64\n",
            "dtypes: float64(4), int64(1), object(7)\n",
            "memory usage: 799.2+ KB\n"
          ]
        }
      ],
      "source": [
        "# Import the Pandas module\n",
        "import pandas as pd\n",
        "import matplotlib.pyplot as plt\n",
        "import seaborn as sns\n",
        "\n",
        "# Load the data into a DataFrame\n",
        "food_sales_df = pd.read_csv('https://docs.google.com/spreadsheets/d/e/2PACX-1vSdSJuFHcoz8G3NZPlYpavtY8IjFJDczqqEukadW_rEfumnbd5kpF9H0e9vS9kxrnglCYiwLJy4_PXK/pub?output=csv')\n",
        "\n",
        "# Verification\n",
        "food_sales_df.info()"
      ]
    },
    {
      "cell_type": "code",
      "execution_count": 94,
      "metadata": {},
      "outputs": [
        {
          "data": {
            "text/html": [
              "<div>\n",
              "<style scoped>\n",
              "    .dataframe tbody tr th:only-of-type {\n",
              "        vertical-align: middle;\n",
              "    }\n",
              "\n",
              "    .dataframe tbody tr th {\n",
              "        vertical-align: top;\n",
              "    }\n",
              "\n",
              "    .dataframe thead th {\n",
              "        text-align: right;\n",
              "    }\n",
              "</style>\n",
              "<table border=\"1\" class=\"dataframe\">\n",
              "  <thead>\n",
              "    <tr style=\"text-align: right;\">\n",
              "      <th></th>\n",
              "      <th>Item_Identifier</th>\n",
              "      <th>Item_Weight</th>\n",
              "      <th>Item_Fat_Content</th>\n",
              "      <th>Item_Visibility</th>\n",
              "      <th>Item_Type</th>\n",
              "      <th>Item_MRP</th>\n",
              "      <th>Outlet_Identifier</th>\n",
              "      <th>Outlet_Establishment_Year</th>\n",
              "      <th>Outlet_Size</th>\n",
              "      <th>Outlet_Location_Type</th>\n",
              "      <th>Outlet_Type</th>\n",
              "      <th>Item_Outlet_Sales</th>\n",
              "    </tr>\n",
              "  </thead>\n",
              "  <tbody>\n",
              "    <tr>\n",
              "      <th>0</th>\n",
              "      <td>FDA15</td>\n",
              "      <td>9.30</td>\n",
              "      <td>Low Fat</td>\n",
              "      <td>0.016047</td>\n",
              "      <td>Dairy</td>\n",
              "      <td>249.8092</td>\n",
              "      <td>OUT049</td>\n",
              "      <td>1999</td>\n",
              "      <td>Medium</td>\n",
              "      <td>Tier 1</td>\n",
              "      <td>Supermarket Type1</td>\n",
              "      <td>3735.1380</td>\n",
              "    </tr>\n",
              "    <tr>\n",
              "      <th>1</th>\n",
              "      <td>DRC01</td>\n",
              "      <td>5.92</td>\n",
              "      <td>Regular</td>\n",
              "      <td>0.019278</td>\n",
              "      <td>Soft Drinks</td>\n",
              "      <td>48.2692</td>\n",
              "      <td>OUT018</td>\n",
              "      <td>2009</td>\n",
              "      <td>Medium</td>\n",
              "      <td>Tier 3</td>\n",
              "      <td>Supermarket Type2</td>\n",
              "      <td>443.4228</td>\n",
              "    </tr>\n",
              "    <tr>\n",
              "      <th>2</th>\n",
              "      <td>FDN15</td>\n",
              "      <td>17.50</td>\n",
              "      <td>Low Fat</td>\n",
              "      <td>0.016760</td>\n",
              "      <td>Meat</td>\n",
              "      <td>141.6180</td>\n",
              "      <td>OUT049</td>\n",
              "      <td>1999</td>\n",
              "      <td>Medium</td>\n",
              "      <td>Tier 1</td>\n",
              "      <td>Supermarket Type1</td>\n",
              "      <td>2097.2700</td>\n",
              "    </tr>\n",
              "    <tr>\n",
              "      <th>3</th>\n",
              "      <td>FDX07</td>\n",
              "      <td>19.20</td>\n",
              "      <td>Regular</td>\n",
              "      <td>0.000000</td>\n",
              "      <td>Fruits and Vegetables</td>\n",
              "      <td>182.0950</td>\n",
              "      <td>OUT010</td>\n",
              "      <td>1998</td>\n",
              "      <td>NaN</td>\n",
              "      <td>Tier 3</td>\n",
              "      <td>Grocery Store</td>\n",
              "      <td>732.3800</td>\n",
              "    </tr>\n",
              "    <tr>\n",
              "      <th>4</th>\n",
              "      <td>NCD19</td>\n",
              "      <td>8.93</td>\n",
              "      <td>Low Fat</td>\n",
              "      <td>0.000000</td>\n",
              "      <td>Household</td>\n",
              "      <td>53.8614</td>\n",
              "      <td>OUT013</td>\n",
              "      <td>1987</td>\n",
              "      <td>High</td>\n",
              "      <td>Tier 3</td>\n",
              "      <td>Supermarket Type1</td>\n",
              "      <td>994.7052</td>\n",
              "    </tr>\n",
              "  </tbody>\n",
              "</table>\n",
              "</div>"
            ],
            "text/plain": [
              "  Item_Identifier  Item_Weight Item_Fat_Content  Item_Visibility  \\\n",
              "0           FDA15         9.30          Low Fat         0.016047   \n",
              "1           DRC01         5.92          Regular         0.019278   \n",
              "2           FDN15        17.50          Low Fat         0.016760   \n",
              "3           FDX07        19.20          Regular         0.000000   \n",
              "4           NCD19         8.93          Low Fat         0.000000   \n",
              "\n",
              "               Item_Type  Item_MRP Outlet_Identifier  \\\n",
              "0                  Dairy  249.8092            OUT049   \n",
              "1            Soft Drinks   48.2692            OUT018   \n",
              "2                   Meat  141.6180            OUT049   \n",
              "3  Fruits and Vegetables  182.0950            OUT010   \n",
              "4              Household   53.8614            OUT013   \n",
              "\n",
              "   Outlet_Establishment_Year Outlet_Size Outlet_Location_Type  \\\n",
              "0                       1999      Medium               Tier 1   \n",
              "1                       2009      Medium               Tier 3   \n",
              "2                       1999      Medium               Tier 1   \n",
              "3                       1998         NaN               Tier 3   \n",
              "4                       1987        High               Tier 3   \n",
              "\n",
              "         Outlet_Type  Item_Outlet_Sales  \n",
              "0  Supermarket Type1          3735.1380  \n",
              "1  Supermarket Type2           443.4228  \n",
              "2  Supermarket Type1          2097.2700  \n",
              "3      Grocery Store           732.3800  \n",
              "4  Supermarket Type1           994.7052  "
            ]
          },
          "execution_count": 94,
          "metadata": {},
          "output_type": "execute_result"
        }
      ],
      "source": [
        "# Take a quick look at the data\n",
        "food_sales_df.head()"
      ]
    },
    {
      "attachments": {},
      "cell_type": "markdown",
      "metadata": {
        "id": "2NkjaWfBKrQ4"
      },
      "source": [
        "## Data Cleaning\n",
        "\n",
        "#### *Inspecting Rows & Columns*"
      ]
    },
    {
      "cell_type": "code",
      "execution_count": 95,
      "metadata": {
        "id": "5AUagkqMKrQ5"
      },
      "outputs": [
        {
          "data": {
            "text/plain": [
              "(8523, 12)"
            ]
          },
          "execution_count": 95,
          "metadata": {},
          "output_type": "execute_result"
        }
      ],
      "source": [
        "# Output the DataFrame's shape which is the number of rows and columns\n",
        "rows_columns = food_sales_df.shape\n",
        "rows_columns"
      ]
    },
    {
      "attachments": {},
      "cell_type": "markdown",
      "metadata": {},
      "source": [
        "> * There are 8523 rows with 12 columns.\n",
        "#### *Inspecting Column Datatypes*"
      ]
    },
    {
      "cell_type": "code",
      "execution_count": 96,
      "metadata": {},
      "outputs": [
        {
          "data": {
            "text/plain": [
              "Item_Identifier               object\n",
              "Item_Weight                  float64\n",
              "Item_Fat_Content              object\n",
              "Item_Visibility              float64\n",
              "Item_Type                     object\n",
              "Item_MRP                     float64\n",
              "Outlet_Identifier             object\n",
              "Outlet_Establishment_Year      int64\n",
              "Outlet_Size                   object\n",
              "Outlet_Location_Type          object\n",
              "Outlet_Type                   object\n",
              "Item_Outlet_Sales            float64\n",
              "dtype: object"
            ]
          },
          "execution_count": 96,
          "metadata": {},
          "output_type": "execute_result"
        }
      ],
      "source": [
        "# Output the DataFrame's columns' datatypes\n",
        "\n",
        "food_sales_df.dtypes"
      ]
    },
    {
      "attachments": {},
      "cell_type": "markdown",
      "metadata": {},
      "source": [
        "> * Based on it's name and Data Dictionary description, the column `Outlet_Size` ought to be a float or int. However, upon inspecting the table's head above, I see that the rows are categorical, *not* numerical. Thus, it's current `object` type makes sense. \n",
        "> * All other column datatypes align with what is expected as laid out in the Data Dictionary above.\n",
        "\n",
        "#### *Inspecting For Duplicates*"
      ]
    },
    {
      "cell_type": "code",
      "execution_count": 97,
      "metadata": {},
      "outputs": [
        {
          "data": {
            "text/plain": [
              "0"
            ]
          },
          "execution_count": 97,
          "metadata": {},
          "output_type": "execute_result"
        }
      ],
      "source": [
        "# Count the number of duplicates\n",
        "food_sales_df.duplicated().sum()"
      ]
    },
    {
      "attachments": {},
      "cell_type": "markdown",
      "metadata": {},
      "source": [
        "> * Fortunately, there are no duplicates within the data.\n",
        "\n",
        "#### *Inspecting & Correcting Categorical Value Inconsistencies*\n",
        "\n",
        "###### _Handling missing data comes after this._ "
      ]
    },
    {
      "cell_type": "code",
      "execution_count": 98,
      "metadata": {},
      "outputs": [
        {
          "name": "stdout",
          "output_type": "stream",
          "text": [
            "***************************************************\n",
            "ITEM_IDENTIFIER\n",
            "FDW13    10\n",
            "FDG33    10\n",
            "NCY18     9\n",
            "FDD38     9\n",
            "DRE49     9\n",
            "         ..\n",
            "FDY43     1\n",
            "FDQ60     1\n",
            "FDO33     1\n",
            "DRF48     1\n",
            "FDC23     1\n",
            "Name: Item_Identifier, Length: 1559, dtype: int64\n",
            "\n",
            "***************************************************\n",
            "ITEM_FAT_CONTENT\n",
            "Low Fat    5089\n",
            "Regular    2889\n",
            "LF          316\n",
            "reg         117\n",
            "low fat     112\n",
            "Name: Item_Fat_Content, dtype: int64\n",
            "\n",
            "***************************************************\n",
            "ITEM_TYPE\n",
            "Fruits and Vegetables    1232\n",
            "Snack Foods              1200\n",
            "Household                 910\n",
            "Frozen Foods              856\n",
            "Dairy                     682\n",
            "Canned                    649\n",
            "Baking Goods              648\n",
            "Health and Hygiene        520\n",
            "Soft Drinks               445\n",
            "Meat                      425\n",
            "Breads                    251\n",
            "Hard Drinks               214\n",
            "Others                    169\n",
            "Starchy Foods             148\n",
            "Breakfast                 110\n",
            "Seafood                    64\n",
            "Name: Item_Type, dtype: int64\n",
            "\n",
            "***************************************************\n",
            "OUTLET_IDENTIFIER\n",
            "OUT027    935\n",
            "OUT013    932\n",
            "OUT049    930\n",
            "OUT046    930\n",
            "OUT035    930\n",
            "OUT045    929\n",
            "OUT018    928\n",
            "OUT017    926\n",
            "OUT010    555\n",
            "OUT019    528\n",
            "Name: Outlet_Identifier, dtype: int64\n",
            "\n",
            "***************************************************\n",
            "OUTLET_SIZE\n",
            "Medium    2793\n",
            "Small     2388\n",
            "High       932\n",
            "Name: Outlet_Size, dtype: int64\n",
            "\n",
            "***************************************************\n",
            "OUTLET_LOCATION_TYPE\n",
            "Tier 3    3350\n",
            "Tier 2    2785\n",
            "Tier 1    2388\n",
            "Name: Outlet_Location_Type, dtype: int64\n",
            "\n",
            "***************************************************\n",
            "OUTLET_TYPE\n",
            "Supermarket Type1    5577\n",
            "Grocery Store        1083\n",
            "Supermarket Type3     935\n",
            "Supermarket Type2     928\n",
            "Name: Outlet_Type, dtype: int64\n",
            "\n"
          ]
        }
      ],
      "source": [
        "# Loop through columns with categorical data and output their value counts\n",
        "for column in food_sales_df.columns:\n",
        "    if food_sales_df[column].dtype == 'object':\n",
        "        print('***************************************************')\n",
        "        print(column.upper())\n",
        "        print(food_sales_df[column].value_counts())\n",
        "        print()"
      ]
    },
    {
      "attachments": {},
      "cell_type": "markdown",
      "metadata": {},
      "source": [
        "> * Only the `Item_Fat_Content` column appears to contain inconsistences:\n",
        ">   1. The label `Low Fat` is also entered as `LF` and `low fat`\n",
        ">   2. The label `Regular` is also entered as `reg`\n",
        "> * I will now fix the inconsistencies of the `Item_Fat_Content` column:"
      ]
    },
    {
      "cell_type": "code",
      "execution_count": 99,
      "metadata": {},
      "outputs": [
        {
          "data": {
            "text/plain": [
              "Low Fat    5517\n",
              "Regular    3006\n",
              "Name: Item_Fat_Content, dtype: int64"
            ]
          },
          "execution_count": 99,
          "metadata": {},
          "output_type": "execute_result"
        }
      ],
      "source": [
        "# Create a replacement dictionary specifying the proper replacements\n",
        "replacement_dict = {\n",
        "    'LF': 'Low Fat',\n",
        "    'low fat': 'Low Fat',\n",
        "    'reg': 'Regular'\n",
        "}\n",
        "\n",
        "# Apply the replacement dictionary inpace\n",
        "food_sales_df['Item_Fat_Content'].replace(replacement_dict, inplace=True)\n",
        "\n",
        "# Verify\n",
        "food_sales_df['Item_Fat_Content'].value_counts()"
      ]
    },
    {
      "attachments": {},
      "cell_type": "markdown",
      "metadata": {},
      "source": [
        "#### _Identifying Missing Values_"
      ]
    },
    {
      "cell_type": "code",
      "execution_count": 100,
      "metadata": {},
      "outputs": [
        {
          "data": {
            "text/plain": [
              "Item_Identifier                 0\n",
              "Item_Weight                  1463\n",
              "Item_Fat_Content                0\n",
              "Item_Visibility                 0\n",
              "Item_Type                       0\n",
              "Item_MRP                        0\n",
              "Outlet_Identifier               0\n",
              "Outlet_Establishment_Year       0\n",
              "Outlet_Size                  2410\n",
              "Outlet_Location_Type            0\n",
              "Outlet_Type                     0\n",
              "Item_Outlet_Sales               0\n",
              "dtype: int64"
            ]
          },
          "execution_count": 100,
          "metadata": {},
          "output_type": "execute_result"
        }
      ],
      "source": [
        "# Ouput the number of missing values for each column\n",
        "missing_data_count = food_sales_df.isna().sum()\n",
        "missing_data_count"
      ]
    },
    {
      "cell_type": "code",
      "execution_count": 101,
      "metadata": {},
      "outputs": [
        {
          "data": {
            "text/plain": [
              "0.1716531737651062"
            ]
          },
          "execution_count": 101,
          "metadata": {},
          "output_type": "execute_result"
        }
      ],
      "source": [
        "# Calculate the percent of data missing in the Item_Weight column\n",
        "missing_item_weight_perc = missing_data_count['Item_Weight'] / len(food_sales_df)\n",
        "missing_item_weight_perc"
      ]
    },
    {
      "cell_type": "code",
      "execution_count": 102,
      "metadata": {},
      "outputs": [
        {
          "data": {
            "text/plain": [
              "0.2827642848762173"
            ]
          },
          "execution_count": 102,
          "metadata": {},
          "output_type": "execute_result"
        }
      ],
      "source": [
        "# Calculate the percent of data missing in the Outlet_Size column\n",
        "missing_outlet_size_perc = missing_data_count['Outlet_Size'] / len(food_sales_df)\n",
        "missing_outlet_size_perc"
      ]
    },
    {
      "attachments": {},
      "cell_type": "markdown",
      "metadata": {},
      "source": [
        "> * About 17.165% of rows have a missing value within the `Item_Weight` column.\n",
        "> * About 28.276% of rows have a missing value within the `Outlet_Size` column."
      ]
    },
    {
      "attachments": {},
      "cell_type": "markdown",
      "metadata": {},
      "source": [
        "#### _Handling Missing Values_\n",
        "> * The percentages of missing values are too high to delete the corresponding rows. Likewise, I do not yet know whether these two columns are pertinent to the problem I am trying to solve, so I cannot delete the columns. So, I will fill in their values.\n",
        "> * First, I'll handle the missing values for the `Item_Weight` column. To start, note that some values in the `Item_Identifier` column repeat across rows:"
      ]
    },
    {
      "cell_type": "code",
      "execution_count": 103,
      "metadata": {},
      "outputs": [
        {
          "data": {
            "text/plain": [
              "FDW13    10\n",
              "FDG33    10\n",
              "NCY18     9\n",
              "FDD38     9\n",
              "DRE49     9\n",
              "         ..\n",
              "FDY43     1\n",
              "FDQ60     1\n",
              "FDO33     1\n",
              "DRF48     1\n",
              "FDC23     1\n",
              "Name: Item_Identifier, Length: 1559, dtype: int64"
            ]
          },
          "execution_count": 103,
          "metadata": {},
          "output_type": "execute_result"
        }
      ],
      "source": [
        "# Count the number of times a value occurs within the Item_Identifier column\n",
        "food_sales_df['Item_Identifier'].value_counts()"
      ]
    },
    {
      "attachments": {},
      "cell_type": "markdown",
      "metadata": {},
      "source": [
        "> * I’ll use the top three `Item_Identifier` values above (FDW13, FDG33, NCY18) as a sample and show their corresponding rows:"
      ]
    },
    {
      "cell_type": "code",
      "execution_count": 104,
      "metadata": {},
      "outputs": [
        {
          "data": {
            "text/html": [
              "<div>\n",
              "<style scoped>\n",
              "    .dataframe tbody tr th:only-of-type {\n",
              "        vertical-align: middle;\n",
              "    }\n",
              "\n",
              "    .dataframe tbody tr th {\n",
              "        vertical-align: top;\n",
              "    }\n",
              "\n",
              "    .dataframe thead th {\n",
              "        text-align: right;\n",
              "    }\n",
              "</style>\n",
              "<table border=\"1\" class=\"dataframe\">\n",
              "  <thead>\n",
              "    <tr style=\"text-align: right;\">\n",
              "      <th></th>\n",
              "      <th>Item_Identifier</th>\n",
              "      <th>Item_Weight</th>\n",
              "      <th>Item_Fat_Content</th>\n",
              "      <th>Item_Visibility</th>\n",
              "      <th>Item_Type</th>\n",
              "      <th>Item_MRP</th>\n",
              "      <th>Outlet_Identifier</th>\n",
              "      <th>Outlet_Establishment_Year</th>\n",
              "      <th>Outlet_Size</th>\n",
              "      <th>Outlet_Location_Type</th>\n",
              "      <th>Outlet_Type</th>\n",
              "      <th>Item_Outlet_Sales</th>\n",
              "    </tr>\n",
              "  </thead>\n",
              "  <tbody>\n",
              "    <tr>\n",
              "      <th>231</th>\n",
              "      <td>FDG33</td>\n",
              "      <td>NaN</td>\n",
              "      <td>Regular</td>\n",
              "      <td>0.139561</td>\n",
              "      <td>Seafood</td>\n",
              "      <td>170.4764</td>\n",
              "      <td>OUT027</td>\n",
              "      <td>1985</td>\n",
              "      <td>Medium</td>\n",
              "      <td>Tier 3</td>\n",
              "      <td>Supermarket Type3</td>\n",
              "      <td>3435.5280</td>\n",
              "    </tr>\n",
              "    <tr>\n",
              "      <th>7726</th>\n",
              "      <td>FDG33</td>\n",
              "      <td>5.365</td>\n",
              "      <td>Regular</td>\n",
              "      <td>0.140214</td>\n",
              "      <td>Seafood</td>\n",
              "      <td>173.7764</td>\n",
              "      <td>OUT035</td>\n",
              "      <td>2004</td>\n",
              "      <td>Small</td>\n",
              "      <td>Tier 2</td>\n",
              "      <td>Supermarket Type1</td>\n",
              "      <td>4637.9628</td>\n",
              "    </tr>\n",
              "    <tr>\n",
              "      <th>7098</th>\n",
              "      <td>FDG33</td>\n",
              "      <td>5.365</td>\n",
              "      <td>Regular</td>\n",
              "      <td>0.140124</td>\n",
              "      <td>Seafood</td>\n",
              "      <td>172.0764</td>\n",
              "      <td>OUT013</td>\n",
              "      <td>1987</td>\n",
              "      <td>High</td>\n",
              "      <td>Tier 3</td>\n",
              "      <td>Supermarket Type1</td>\n",
              "      <td>2748.4224</td>\n",
              "    </tr>\n",
              "    <tr>\n",
              "      <th>7011</th>\n",
              "      <td>FDG33</td>\n",
              "      <td>5.365</td>\n",
              "      <td>Regular</td>\n",
              "      <td>0.140812</td>\n",
              "      <td>Seafood</td>\n",
              "      <td>173.5764</td>\n",
              "      <td>OUT018</td>\n",
              "      <td>2009</td>\n",
              "      <td>Medium</td>\n",
              "      <td>Tier 3</td>\n",
              "      <td>Supermarket Type2</td>\n",
              "      <td>2061.3168</td>\n",
              "    </tr>\n",
              "    <tr>\n",
              "      <th>1202</th>\n",
              "      <td>FDG33</td>\n",
              "      <td>5.365</td>\n",
              "      <td>Regular</td>\n",
              "      <td>0.140525</td>\n",
              "      <td>Seafood</td>\n",
              "      <td>172.7764</td>\n",
              "      <td>OUT045</td>\n",
              "      <td>2002</td>\n",
              "      <td>NaN</td>\n",
              "      <td>Tier 2</td>\n",
              "      <td>Supermarket Type1</td>\n",
              "      <td>2233.0932</td>\n",
              "    </tr>\n",
              "    <tr>\n",
              "      <th>1575</th>\n",
              "      <td>FDG33</td>\n",
              "      <td>NaN</td>\n",
              "      <td>Regular</td>\n",
              "      <td>0.245543</td>\n",
              "      <td>Seafood</td>\n",
              "      <td>172.2764</td>\n",
              "      <td>OUT019</td>\n",
              "      <td>1985</td>\n",
              "      <td>Small</td>\n",
              "      <td>Tier 1</td>\n",
              "      <td>Grocery Store</td>\n",
              "      <td>171.7764</td>\n",
              "    </tr>\n",
              "    <tr>\n",
              "      <th>6112</th>\n",
              "      <td>FDG33</td>\n",
              "      <td>5.365</td>\n",
              "      <td>Regular</td>\n",
              "      <td>0.141034</td>\n",
              "      <td>Seafood</td>\n",
              "      <td>173.6764</td>\n",
              "      <td>OUT017</td>\n",
              "      <td>2007</td>\n",
              "      <td>NaN</td>\n",
              "      <td>Tier 2</td>\n",
              "      <td>Supermarket Type1</td>\n",
              "      <td>858.8820</td>\n",
              "    </tr>\n",
              "    <tr>\n",
              "      <th>5164</th>\n",
              "      <td>FDG33</td>\n",
              "      <td>5.365</td>\n",
              "      <td>Regular</td>\n",
              "      <td>0.140240</td>\n",
              "      <td>Seafood</td>\n",
              "      <td>171.0764</td>\n",
              "      <td>OUT046</td>\n",
              "      <td>1997</td>\n",
              "      <td>Small</td>\n",
              "      <td>Tier 1</td>\n",
              "      <td>Supermarket Type1</td>\n",
              "      <td>3263.7516</td>\n",
              "    </tr>\n",
              "    <tr>\n",
              "      <th>2728</th>\n",
              "      <td>FDG33</td>\n",
              "      <td>5.365</td>\n",
              "      <td>Regular</td>\n",
              "      <td>0.234733</td>\n",
              "      <td>Seafood</td>\n",
              "      <td>173.4764</td>\n",
              "      <td>OUT010</td>\n",
              "      <td>1998</td>\n",
              "      <td>NaN</td>\n",
              "      <td>Tier 3</td>\n",
              "      <td>Grocery Store</td>\n",
              "      <td>171.7764</td>\n",
              "    </tr>\n",
              "    <tr>\n",
              "      <th>4747</th>\n",
              "      <td>FDG33</td>\n",
              "      <td>5.365</td>\n",
              "      <td>Regular</td>\n",
              "      <td>0.140458</td>\n",
              "      <td>Seafood</td>\n",
              "      <td>169.7764</td>\n",
              "      <td>OUT049</td>\n",
              "      <td>1999</td>\n",
              "      <td>Medium</td>\n",
              "      <td>Tier 1</td>\n",
              "      <td>Supermarket Type1</td>\n",
              "      <td>3263.7516</td>\n",
              "    </tr>\n",
              "    <tr>\n",
              "      <th>7029</th>\n",
              "      <td>FDW13</td>\n",
              "      <td>8.500</td>\n",
              "      <td>Low Fat</td>\n",
              "      <td>0.097803</td>\n",
              "      <td>Canned</td>\n",
              "      <td>50.5324</td>\n",
              "      <td>OUT013</td>\n",
              "      <td>1987</td>\n",
              "      <td>High</td>\n",
              "      <td>Tier 3</td>\n",
              "      <td>Supermarket Type1</td>\n",
              "      <td>882.8508</td>\n",
              "    </tr>\n",
              "    <tr>\n",
              "      <th>6587</th>\n",
              "      <td>FDW13</td>\n",
              "      <td>8.500</td>\n",
              "      <td>Low Fat</td>\n",
              "      <td>0.163839</td>\n",
              "      <td>Canned</td>\n",
              "      <td>51.3324</td>\n",
              "      <td>OUT010</td>\n",
              "      <td>1998</td>\n",
              "      <td>NaN</td>\n",
              "      <td>Tier 3</td>\n",
              "      <td>Grocery Store</td>\n",
              "      <td>311.5944</td>\n",
              "    </tr>\n",
              "    <tr>\n",
              "      <th>6499</th>\n",
              "      <td>FDW13</td>\n",
              "      <td>8.500</td>\n",
              "      <td>Low Fat</td>\n",
              "      <td>0.098083</td>\n",
              "      <td>Canned</td>\n",
              "      <td>50.3324</td>\n",
              "      <td>OUT045</td>\n",
              "      <td>2002</td>\n",
              "      <td>NaN</td>\n",
              "      <td>Tier 2</td>\n",
              "      <td>Supermarket Type1</td>\n",
              "      <td>675.1212</td>\n",
              "    </tr>\n",
              "    <tr>\n",
              "      <th>8025</th>\n",
              "      <td>FDW13</td>\n",
              "      <td>NaN</td>\n",
              "      <td>Low Fat</td>\n",
              "      <td>0.171384</td>\n",
              "      <td>Canned</td>\n",
              "      <td>50.5324</td>\n",
              "      <td>OUT019</td>\n",
              "      <td>1985</td>\n",
              "      <td>Small</td>\n",
              "      <td>Tier 1</td>\n",
              "      <td>Grocery Store</td>\n",
              "      <td>207.7296</td>\n",
              "    </tr>\n",
              "    <tr>\n",
              "      <th>3978</th>\n",
              "      <td>FDW13</td>\n",
              "      <td>8.500</td>\n",
              "      <td>Low Fat</td>\n",
              "      <td>0.098037</td>\n",
              "      <td>Canned</td>\n",
              "      <td>51.5324</td>\n",
              "      <td>OUT049</td>\n",
              "      <td>1999</td>\n",
              "      <td>Medium</td>\n",
              "      <td>Tier 1</td>\n",
              "      <td>Supermarket Type1</td>\n",
              "      <td>882.8508</td>\n",
              "    </tr>\n",
              "    <tr>\n",
              "      <th>2190</th>\n",
              "      <td>FDW13</td>\n",
              "      <td>8.500</td>\n",
              "      <td>Low Fat</td>\n",
              "      <td>0.098283</td>\n",
              "      <td>Canned</td>\n",
              "      <td>51.3324</td>\n",
              "      <td>OUT018</td>\n",
              "      <td>2009</td>\n",
              "      <td>Medium</td>\n",
              "      <td>Tier 3</td>\n",
              "      <td>Supermarket Type2</td>\n",
              "      <td>934.7832</td>\n",
              "    </tr>\n",
              "    <tr>\n",
              "      <th>1141</th>\n",
              "      <td>FDW13</td>\n",
              "      <td>8.500</td>\n",
              "      <td>Low Fat</td>\n",
              "      <td>0.097866</td>\n",
              "      <td>Canned</td>\n",
              "      <td>51.1324</td>\n",
              "      <td>OUT035</td>\n",
              "      <td>2004</td>\n",
              "      <td>Small</td>\n",
              "      <td>Tier 2</td>\n",
              "      <td>Supermarket Type1</td>\n",
              "      <td>1350.2424</td>\n",
              "    </tr>\n",
              "    <tr>\n",
              "      <th>256</th>\n",
              "      <td>FDW13</td>\n",
              "      <td>8.500</td>\n",
              "      <td>Low Fat</td>\n",
              "      <td>0.098438</td>\n",
              "      <td>Canned</td>\n",
              "      <td>51.1324</td>\n",
              "      <td>OUT017</td>\n",
              "      <td>2007</td>\n",
              "      <td>NaN</td>\n",
              "      <td>Tier 2</td>\n",
              "      <td>Supermarket Type1</td>\n",
              "      <td>259.6620</td>\n",
              "    </tr>\n",
              "    <tr>\n",
              "      <th>3928</th>\n",
              "      <td>FDW13</td>\n",
              "      <td>NaN</td>\n",
              "      <td>Low Fat</td>\n",
              "      <td>0.097411</td>\n",
              "      <td>Canned</td>\n",
              "      <td>52.7324</td>\n",
              "      <td>OUT027</td>\n",
              "      <td>1985</td>\n",
              "      <td>Medium</td>\n",
              "      <td>Tier 3</td>\n",
              "      <td>Supermarket Type3</td>\n",
              "      <td>2492.7552</td>\n",
              "    </tr>\n",
              "    <tr>\n",
              "      <th>8032</th>\n",
              "      <td>FDW13</td>\n",
              "      <td>8.500</td>\n",
              "      <td>Low Fat</td>\n",
              "      <td>0.097885</td>\n",
              "      <td>Canned</td>\n",
              "      <td>52.5324</td>\n",
              "      <td>OUT046</td>\n",
              "      <td>1997</td>\n",
              "      <td>Small</td>\n",
              "      <td>Tier 1</td>\n",
              "      <td>Supermarket Type1</td>\n",
              "      <td>1194.4452</td>\n",
              "    </tr>\n",
              "    <tr>\n",
              "      <th>4233</th>\n",
              "      <td>NCY18</td>\n",
              "      <td>NaN</td>\n",
              "      <td>Low Fat</td>\n",
              "      <td>0.031001</td>\n",
              "      <td>Household</td>\n",
              "      <td>177.0054</td>\n",
              "      <td>OUT027</td>\n",
              "      <td>1985</td>\n",
              "      <td>Medium</td>\n",
              "      <td>Tier 3</td>\n",
              "      <td>Supermarket Type3</td>\n",
              "      <td>2101.2648</td>\n",
              "    </tr>\n",
              "    <tr>\n",
              "      <th>2976</th>\n",
              "      <td>NCY18</td>\n",
              "      <td>7.285</td>\n",
              "      <td>Low Fat</td>\n",
              "      <td>0.031152</td>\n",
              "      <td>Household</td>\n",
              "      <td>173.2054</td>\n",
              "      <td>OUT046</td>\n",
              "      <td>1997</td>\n",
              "      <td>Small</td>\n",
              "      <td>Tier 1</td>\n",
              "      <td>Supermarket Type1</td>\n",
              "      <td>4902.9512</td>\n",
              "    </tr>\n",
              "    <tr>\n",
              "      <th>6050</th>\n",
              "      <td>NCY18</td>\n",
              "      <td>7.285</td>\n",
              "      <td>Low Fat</td>\n",
              "      <td>0.031200</td>\n",
              "      <td>Household</td>\n",
              "      <td>174.7054</td>\n",
              "      <td>OUT049</td>\n",
              "      <td>1999</td>\n",
              "      <td>Medium</td>\n",
              "      <td>Tier 1</td>\n",
              "      <td>Supermarket Type1</td>\n",
              "      <td>6303.7944</td>\n",
              "    </tr>\n",
              "    <tr>\n",
              "      <th>2079</th>\n",
              "      <td>NCY18</td>\n",
              "      <td>7.285</td>\n",
              "      <td>Low Fat</td>\n",
              "      <td>0.052141</td>\n",
              "      <td>Household</td>\n",
              "      <td>174.9054</td>\n",
              "      <td>OUT010</td>\n",
              "      <td>1998</td>\n",
              "      <td>NaN</td>\n",
              "      <td>Tier 3</td>\n",
              "      <td>Grocery Store</td>\n",
              "      <td>525.3162</td>\n",
              "    </tr>\n",
              "    <tr>\n",
              "      <th>1756</th>\n",
              "      <td>NCY18</td>\n",
              "      <td>7.285</td>\n",
              "      <td>Low Fat</td>\n",
              "      <td>0.031328</td>\n",
              "      <td>Household</td>\n",
              "      <td>174.6054</td>\n",
              "      <td>OUT017</td>\n",
              "      <td>2007</td>\n",
              "      <td>NaN</td>\n",
              "      <td>Tier 2</td>\n",
              "      <td>Supermarket Type1</td>\n",
              "      <td>2976.7918</td>\n",
              "    </tr>\n",
              "    <tr>\n",
              "      <th>1639</th>\n",
              "      <td>NCY18</td>\n",
              "      <td>7.285</td>\n",
              "      <td>Low Fat</td>\n",
              "      <td>0.031215</td>\n",
              "      <td>Household</td>\n",
              "      <td>177.1054</td>\n",
              "      <td>OUT045</td>\n",
              "      <td>2002</td>\n",
              "      <td>NaN</td>\n",
              "      <td>Tier 2</td>\n",
              "      <td>Supermarket Type1</td>\n",
              "      <td>2626.5810</td>\n",
              "    </tr>\n",
              "    <tr>\n",
              "      <th>736</th>\n",
              "      <td>NCY18</td>\n",
              "      <td>7.285</td>\n",
              "      <td>Low Fat</td>\n",
              "      <td>0.031146</td>\n",
              "      <td>Household</td>\n",
              "      <td>173.6054</td>\n",
              "      <td>OUT035</td>\n",
              "      <td>2004</td>\n",
              "      <td>Small</td>\n",
              "      <td>Tier 2</td>\n",
              "      <td>Supermarket Type1</td>\n",
              "      <td>2626.5810</td>\n",
              "    </tr>\n",
              "    <tr>\n",
              "      <th>342</th>\n",
              "      <td>NCY18</td>\n",
              "      <td>7.285</td>\n",
              "      <td>Low Fat</td>\n",
              "      <td>0.031126</td>\n",
              "      <td>Household</td>\n",
              "      <td>174.3054</td>\n",
              "      <td>OUT013</td>\n",
              "      <td>1987</td>\n",
              "      <td>High</td>\n",
              "      <td>Tier 3</td>\n",
              "      <td>Supermarket Type1</td>\n",
              "      <td>4377.6350</td>\n",
              "    </tr>\n",
              "    <tr>\n",
              "      <th>7869</th>\n",
              "      <td>NCY18</td>\n",
              "      <td>7.285</td>\n",
              "      <td>Low Fat</td>\n",
              "      <td>0.031279</td>\n",
              "      <td>Household</td>\n",
              "      <td>176.0054</td>\n",
              "      <td>OUT018</td>\n",
              "      <td>2009</td>\n",
              "      <td>Medium</td>\n",
              "      <td>Tier 3</td>\n",
              "      <td>Supermarket Type2</td>\n",
              "      <td>2626.5810</td>\n",
              "    </tr>\n",
              "  </tbody>\n",
              "</table>\n",
              "</div>"
            ],
            "text/plain": [
              "     Item_Identifier  Item_Weight Item_Fat_Content  Item_Visibility  \\\n",
              "231            FDG33          NaN          Regular         0.139561   \n",
              "7726           FDG33        5.365          Regular         0.140214   \n",
              "7098           FDG33        5.365          Regular         0.140124   \n",
              "7011           FDG33        5.365          Regular         0.140812   \n",
              "1202           FDG33        5.365          Regular         0.140525   \n",
              "1575           FDG33          NaN          Regular         0.245543   \n",
              "6112           FDG33        5.365          Regular         0.141034   \n",
              "5164           FDG33        5.365          Regular         0.140240   \n",
              "2728           FDG33        5.365          Regular         0.234733   \n",
              "4747           FDG33        5.365          Regular         0.140458   \n",
              "7029           FDW13        8.500          Low Fat         0.097803   \n",
              "6587           FDW13        8.500          Low Fat         0.163839   \n",
              "6499           FDW13        8.500          Low Fat         0.098083   \n",
              "8025           FDW13          NaN          Low Fat         0.171384   \n",
              "3978           FDW13        8.500          Low Fat         0.098037   \n",
              "2190           FDW13        8.500          Low Fat         0.098283   \n",
              "1141           FDW13        8.500          Low Fat         0.097866   \n",
              "256            FDW13        8.500          Low Fat         0.098438   \n",
              "3928           FDW13          NaN          Low Fat         0.097411   \n",
              "8032           FDW13        8.500          Low Fat         0.097885   \n",
              "4233           NCY18          NaN          Low Fat         0.031001   \n",
              "2976           NCY18        7.285          Low Fat         0.031152   \n",
              "6050           NCY18        7.285          Low Fat         0.031200   \n",
              "2079           NCY18        7.285          Low Fat         0.052141   \n",
              "1756           NCY18        7.285          Low Fat         0.031328   \n",
              "1639           NCY18        7.285          Low Fat         0.031215   \n",
              "736            NCY18        7.285          Low Fat         0.031146   \n",
              "342            NCY18        7.285          Low Fat         0.031126   \n",
              "7869           NCY18        7.285          Low Fat         0.031279   \n",
              "\n",
              "      Item_Type  Item_MRP Outlet_Identifier  Outlet_Establishment_Year  \\\n",
              "231     Seafood  170.4764            OUT027                       1985   \n",
              "7726    Seafood  173.7764            OUT035                       2004   \n",
              "7098    Seafood  172.0764            OUT013                       1987   \n",
              "7011    Seafood  173.5764            OUT018                       2009   \n",
              "1202    Seafood  172.7764            OUT045                       2002   \n",
              "1575    Seafood  172.2764            OUT019                       1985   \n",
              "6112    Seafood  173.6764            OUT017                       2007   \n",
              "5164    Seafood  171.0764            OUT046                       1997   \n",
              "2728    Seafood  173.4764            OUT010                       1998   \n",
              "4747    Seafood  169.7764            OUT049                       1999   \n",
              "7029     Canned   50.5324            OUT013                       1987   \n",
              "6587     Canned   51.3324            OUT010                       1998   \n",
              "6499     Canned   50.3324            OUT045                       2002   \n",
              "8025     Canned   50.5324            OUT019                       1985   \n",
              "3978     Canned   51.5324            OUT049                       1999   \n",
              "2190     Canned   51.3324            OUT018                       2009   \n",
              "1141     Canned   51.1324            OUT035                       2004   \n",
              "256      Canned   51.1324            OUT017                       2007   \n",
              "3928     Canned   52.7324            OUT027                       1985   \n",
              "8032     Canned   52.5324            OUT046                       1997   \n",
              "4233  Household  177.0054            OUT027                       1985   \n",
              "2976  Household  173.2054            OUT046                       1997   \n",
              "6050  Household  174.7054            OUT049                       1999   \n",
              "2079  Household  174.9054            OUT010                       1998   \n",
              "1756  Household  174.6054            OUT017                       2007   \n",
              "1639  Household  177.1054            OUT045                       2002   \n",
              "736   Household  173.6054            OUT035                       2004   \n",
              "342   Household  174.3054            OUT013                       1987   \n",
              "7869  Household  176.0054            OUT018                       2009   \n",
              "\n",
              "     Outlet_Size Outlet_Location_Type        Outlet_Type  Item_Outlet_Sales  \n",
              "231       Medium               Tier 3  Supermarket Type3          3435.5280  \n",
              "7726       Small               Tier 2  Supermarket Type1          4637.9628  \n",
              "7098        High               Tier 3  Supermarket Type1          2748.4224  \n",
              "7011      Medium               Tier 3  Supermarket Type2          2061.3168  \n",
              "1202         NaN               Tier 2  Supermarket Type1          2233.0932  \n",
              "1575       Small               Tier 1      Grocery Store           171.7764  \n",
              "6112         NaN               Tier 2  Supermarket Type1           858.8820  \n",
              "5164       Small               Tier 1  Supermarket Type1          3263.7516  \n",
              "2728         NaN               Tier 3      Grocery Store           171.7764  \n",
              "4747      Medium               Tier 1  Supermarket Type1          3263.7516  \n",
              "7029        High               Tier 3  Supermarket Type1           882.8508  \n",
              "6587         NaN               Tier 3      Grocery Store           311.5944  \n",
              "6499         NaN               Tier 2  Supermarket Type1           675.1212  \n",
              "8025       Small               Tier 1      Grocery Store           207.7296  \n",
              "3978      Medium               Tier 1  Supermarket Type1           882.8508  \n",
              "2190      Medium               Tier 3  Supermarket Type2           934.7832  \n",
              "1141       Small               Tier 2  Supermarket Type1          1350.2424  \n",
              "256          NaN               Tier 2  Supermarket Type1           259.6620  \n",
              "3928      Medium               Tier 3  Supermarket Type3          2492.7552  \n",
              "8032       Small               Tier 1  Supermarket Type1          1194.4452  \n",
              "4233      Medium               Tier 3  Supermarket Type3          2101.2648  \n",
              "2976       Small               Tier 1  Supermarket Type1          4902.9512  \n",
              "6050      Medium               Tier 1  Supermarket Type1          6303.7944  \n",
              "2079         NaN               Tier 3      Grocery Store           525.3162  \n",
              "1756         NaN               Tier 2  Supermarket Type1          2976.7918  \n",
              "1639         NaN               Tier 2  Supermarket Type1          2626.5810  \n",
              "736        Small               Tier 2  Supermarket Type1          2626.5810  \n",
              "342         High               Tier 3  Supermarket Type1          4377.6350  \n",
              "7869      Medium               Tier 3  Supermarket Type2          2626.5810  "
            ]
          },
          "execution_count": 104,
          "metadata": {},
          "output_type": "execute_result"
        }
      ],
      "source": [
        "# Create three filters to select the sampled Item_Identifiers\n",
        "fdw13 = food_sales_df['Item_Identifier'] == 'FDW13'\n",
        "fdg33 = food_sales_df['Item_Identifier'] == 'FDG33'\n",
        "ncy18 = food_sales_df['Item_Identifier'] == 'NCY18'\n",
        "\n",
        "# Apply the filters and sort the resulting DataFrame by Item_Identifier\n",
        "food_sales_df.loc[fdw13 | fdg33 | ncy18, :].sort_values(by='Item_Identifier')"
      ]
    },
    {
      "attachments": {},
      "cell_type": "markdown",
      "metadata": {},
      "source": [
        "> * Notice the following:\n",
        ">   1. A repeating value in the `Item_Identifier` column references an item that is present in different stores (e.g. A group of rows have an `Item_Identifier` of FDG33 but one  has an `Outlet_Identifier` of OUT027 and another has an `Outlet_Identifier` of OUT035 and so on).\n",
        ">   2. For each row with the same `Item_Identifier` value, it appears as if the values in the `Item_Weight` column are the same, except for when there's a missing value (e.g. All rows with `Item_Identifier` FDG33 have the same `Item_Weight` of 5.365 except for when they are missing data). I can verify if this is true for every row with the same `Item_Identifier` value through a few operations in Pandas (in-depth explanation in Python comments below):"
      ]
    },
    {
      "cell_type": "code",
      "execution_count": 105,
      "metadata": {},
      "outputs": [
        {
          "data": {
            "text/plain": [
              "False"
            ]
          },
          "execution_count": 105,
          "metadata": {},
          "output_type": "execute_result"
        }
      ],
      "source": [
        "# 1. Create a DataFrame of Item_Weight values grouped by Item_Identifier.\n",
        "# 2. Ignoring missing values, get the number of distinct Item_Weight values per Item_Identifier.\n",
        "unique_item_weights = food_sales_df.groupby('Item_Identifier')[['Item_Weight']].nunique()\n",
        "\n",
        "# 3. Use an elementwise boolean comparison on the DataFrame to verify whether the number of Item_Weight \n",
        "#    values per Item_Identifier values is only 1. I say only 1 because I want to verify if each row with \n",
        "#    the same Item_Identifier has the same Item_Weight (aka, only one weight per Item_Identifier) \n",
        "# 4. The returned DataFrame has the Item_Identifier values in one column and whether or \n",
        "#    not they have only one Item_Weight (excluding missing values) in another column\n",
        "unique_item_weights =  unique_item_weights == 1\n",
        "\n",
        "# 5. Perform an elementwise not on all the elements of the DataFrame produced previously (above).\n",
        "# 6. Use .any to verify whether any element is True within the Series. (A True element would have \n",
        "#    been False before, and if False before then that would mean there exists an Item_Identifier \n",
        "#    for which there are more than one Item_Weight values, excluding missing values. This will return \n",
        "#    True below. But it doesn't.)\n",
        "#    I found out about .any while scouring the Pandas documentation:\n",
        "#    https://pandas.pydata.org/pandas-docs/stable/reference/api/pandas.Series.any.html\n",
        "~unique_item_weights['Item_Weight'].any()"
      ]
    },
    {
      "attachments": {},
      "cell_type": "markdown",
      "metadata": {},
      "source": [
        "> * Based on the output above, I can now say that rows with the same `Item_Identifier` value have the same `Item_Weight` value, unless they have missing values. This implies that all items of the same `Item_Identifier` should/do have the same `Item_Weight`. So, I will make rows with the same `Item_Identifier` values have all the same `Item_Weight` values to account for the missing data. First, I'll once again group the `Item_Weight` values by the `Item_Identifier` values and select the first non-missing `Item_Weight` value:"
      ]
    },
    {
      "cell_type": "code",
      "execution_count": 106,
      "metadata": {},
      "outputs": [
        {
          "data": {
            "text/plain": [
              "Item_Identifier\n",
              "DRA12    11.600\n",
              "DRA24    19.350\n",
              "DRA59     8.270\n",
              "DRB01     7.390\n",
              "DRB13     6.115\n",
              "          ...  \n",
              "NCZ30     6.590\n",
              "NCZ41    19.850\n",
              "NCZ42    10.500\n",
              "NCZ53     9.600\n",
              "NCZ54    14.650\n",
              "Name: Item_Weight, Length: 1559, dtype: float64"
            ]
          },
          "execution_count": 106,
          "metadata": {},
          "output_type": "execute_result"
        }
      ],
      "source": [
        "# Excluding the missing values, count the  prices of each item/Item_Identifier, excluding rows with NaN.\n",
        "# I used this pages on Pandas GroupBy to discover the .first method:\n",
        "# https://pandas.pydata.org/pandas-docs/stable/reference/groupby.html\n",
        "item_weight_by_item_identifier = food_sales_df.groupby('Item_Identifier')['Item_Weight'].first()\n",
        "item_weight_by_item_identifier"
      ]
    },
    {
      "attachments": {},
      "cell_type": "markdown",
      "metadata": {},
      "source": [
        "> * Then, I'll replace each missing value in the `Item_Weight` column with the first non-missing `Item_Weight` value of its corresponding `Item_Identifier` value (e.g. Replace the missing `Item_Weight` values of rows with `Item_Identifier` FDG33 with the first occuring `Item_Weight` of all rows with `Item_Identifier` FDG33):"
      ]
    },
    {
      "cell_type": "code",
      "execution_count": 107,
      "metadata": {},
      "outputs": [],
      "source": [
        "# Filter to target only values in the Item_Weight column that are missing\n",
        "is_NaN_filter = pd.isna(food_sales_df['Item_Weight']) \n",
        "\n",
        "# Go through and fill in the missing data\n",
        "for identifier in item_weight_by_item_identifier.index:\n",
        "    # Filter to target all rows with a specific Item_Identifier\n",
        "    item_identifier_filter = food_sales_df['Item_Identifier'] == identifier\n",
        "\n",
        "    # Gets the current Item_Identifiers average weight\n",
        "    item_weight = item_weight_by_item_identifier[identifier]\n",
        "\n",
        "    # Change the missing values to the average weight based on the current\n",
        "    # Item_Identifier and whether there is missing data\n",
        "    # This stack overflow post helped me figure out how to change values in one column\n",
        "    # Based on row values\n",
        "    # https://stackoverflow.com/questions/53598233/pandas-replace-values-condition-based-on-another-column\n",
        "    food_sales_df.loc[is_NaN_filter & item_identifier_filter, 'Item_Weight'] = item_weight"
      ]
    },
    {
      "attachments": {},
      "cell_type": "markdown",
      "metadata": {},
      "source": [
        "> * Finally, I'll verify how well this process filled in the missing values of the `Item_Weight` column:"
      ]
    },
    {
      "cell_type": "code",
      "execution_count": 108,
      "metadata": {},
      "outputs": [
        {
          "data": {
            "text/plain": [
              "4"
            ]
          },
          "execution_count": 108,
          "metadata": {},
          "output_type": "execute_result"
        }
      ],
      "source": [
        "# On the Item_Weight column, identify how many values are missing\n",
        "food_sales_df['Item_Weight'].isna().sum()"
      ]
    },
    {
      "attachments": {},
      "cell_type": "markdown",
      "metadata": {},
      "source": [
        "> * There are still 4 rows out of 8523 with missing data on the `Item_Weight` column. I'll remove them since losing 4 rows out of 8523 presents a negligible impact:"
      ]
    },
    {
      "cell_type": "code",
      "execution_count": 109,
      "metadata": {},
      "outputs": [
        {
          "data": {
            "text/plain": [
              "0"
            ]
          },
          "execution_count": 109,
          "metadata": {},
          "output_type": "execute_result"
        }
      ],
      "source": [
        "# Remove all rows where there is missing data in the Item_Weight column\n",
        "food_sales_df.dropna(subset=['Item_Weight'], inplace=True)\n",
        "\n",
        "# On the Item_Weight column, identify how many values are missing\n",
        "food_sales_df['Item_Weight'].isna().sum()"
      ]
    },
    {
      "attachments": {},
      "cell_type": "markdown",
      "metadata": {},
      "source": [
        "> * There are no more missing values in the `Item_Weight` column.\n",
        "> * Handling the missing values within the `Outlet_Size` column will be different because it is a column with categorical values, not numerical. To start, I want to group the `Outlet_Size` column by the `Outlet_Identifier` column to see the relative sizes of each outlet:\n"
      ]
    },
    {
      "cell_type": "code",
      "execution_count": 110,
      "metadata": {},
      "outputs": [
        {
          "data": {
            "text/plain": [
              "Outlet_Identifier  Outlet_Size\n",
              "OUT010             NaN            555\n",
              "OUT013             High           932\n",
              "OUT017             NaN            926\n",
              "OUT018             Medium         928\n",
              "OUT019             Small          527\n",
              "OUT027             Medium         932\n",
              "OUT035             Small          930\n",
              "OUT045             NaN            929\n",
              "OUT046             Small          930\n",
              "OUT049             Medium         930\n",
              "Name: Outlet_Size, dtype: int64"
            ]
          },
          "execution_count": 110,
          "metadata": {},
          "output_type": "execute_result"
        }
      ],
      "source": [
        "# Show the Outlize_Size based on Outlet_Identifiers\n",
        "food_sales_df.groupby('Outlet_Identifier')['Outlet_Size'].value_counts(dropna=False)"
      ]
    },
    {
      "attachments": {},
      "cell_type": "markdown",
      "metadata": {},
      "source": [
        "> * Based on the output, it’s apparent that all rows with the same `Outlet_Identifier` have the same `Outlet_Size`. \n",
        "> * It also appears that rows with an `Outlet_Identifier` of OUT010, OUT017, and OUT045 are all missing sizes. That is, rows that have one of these three values in their `Outlet_Identifier` column do not have _**any**_ data in the `Outlet_Size` column. \n",
        "> * I will try to discern a pattern within the available data that’ll help me make an informed judgment on how to fill in the missing values in the `Outlet_Size` column. If there is no apparent pattern, I’ll simply fill the missing values with the most common `Outlet_Size` value (its mode, since this column is categorical) or label the missing values as 'Unknown'. \n",
        ">* Based on the descriptions of each column in the Data Dictionary, I chose columns that may have an impact on `Outlet_Size` and used them with **`.groupby`** to hopefully discern some patterns:\n"
      ]
    },
    {
      "cell_type": "code",
      "execution_count": 111,
      "metadata": {},
      "outputs": [
        {
          "data": {
            "text/plain": [
              "Outlet_Type        Outlet_Size\n",
              "Grocery Store      Small           527\n",
              "                   NaN             555\n",
              "Supermarket Type1  Medium          930\n",
              "                   High            932\n",
              "                   NaN            1855\n",
              "                   Small          1860\n",
              "Supermarket Type2  Medium          928\n",
              "Supermarket Type3  Medium          932\n",
              "Name: Outlet_Size, dtype: int64"
            ]
          },
          "execution_count": 111,
          "metadata": {},
          "output_type": "execute_result"
        }
      ],
      "source": [
        "# Group the Outlet_Size by the Outlet_Type, include missing values\n",
        "food_sales_df.groupby(['Outlet_Type'])['Outlet_Size'].value_counts(dropna=False, ascending=True)"
      ]
    },
    {
      "cell_type": "code",
      "execution_count": 112,
      "metadata": {},
      "outputs": [
        {
          "data": {
            "text/plain": [
              "Outlet_Location_Type  Outlet_Size\n",
              "Tier 1                Medium          930\n",
              "                      Small          1457\n",
              "Tier 2                Small           930\n",
              "                      NaN            1855\n",
              "Tier 3                NaN             555\n",
              "                      High            932\n",
              "                      Medium         1860\n",
              "Name: Outlet_Size, dtype: int64"
            ]
          },
          "execution_count": 112,
          "metadata": {},
          "output_type": "execute_result"
        }
      ],
      "source": [
        "# Group the Outlet_Size by Outlet_Location_Type, include missing values\n",
        "food_sales_df.groupby(['Outlet_Location_Type'])['Outlet_Size'].value_counts(dropna=False, ascending=True)"
      ]
    },
    {
      "cell_type": "code",
      "execution_count": 113,
      "metadata": {},
      "outputs": [
        {
          "data": {
            "text/plain": [
              "Outlet_Establishment_Year  Outlet_Size\n",
              "1985                       Small          527\n",
              "                           Medium         932\n",
              "1987                       High           932\n",
              "1997                       Small          930\n",
              "1998                       NaN            555\n",
              "1999                       Medium         930\n",
              "2002                       NaN            929\n",
              "2004                       Small          930\n",
              "2007                       NaN            926\n",
              "2009                       Medium         928\n",
              "Name: Outlet_Size, dtype: int64"
            ]
          },
          "execution_count": 113,
          "metadata": {},
          "output_type": "execute_result"
        }
      ],
      "source": [
        "# Group Outlet_Size by Outlet_Establishment_Year, include missing values\n",
        "food_sales_df.groupby(['Outlet_Establishment_Year'])['Outlet_Size'].value_counts(dropna=False, ascending=True)"
      ]
    },
    {
      "cell_type": "code",
      "execution_count": 114,
      "metadata": {},
      "outputs": [
        {
          "data": {
            "text/html": [
              "<div>\n",
              "<style scoped>\n",
              "    .dataframe tbody tr th:only-of-type {\n",
              "        vertical-align: middle;\n",
              "    }\n",
              "\n",
              "    .dataframe tbody tr th {\n",
              "        vertical-align: top;\n",
              "    }\n",
              "\n",
              "    .dataframe thead th {\n",
              "        text-align: right;\n",
              "    }\n",
              "</style>\n",
              "<table border=\"1\" class=\"dataframe\">\n",
              "  <thead>\n",
              "    <tr style=\"text-align: right;\">\n",
              "      <th></th>\n",
              "      <th></th>\n",
              "      <th>Item_Outlet_Sales</th>\n",
              "    </tr>\n",
              "    <tr>\n",
              "      <th>Outlet_Identifier</th>\n",
              "      <th>Outlet_Size</th>\n",
              "      <th></th>\n",
              "    </tr>\n",
              "  </thead>\n",
              "  <tbody>\n",
              "    <tr>\n",
              "      <th>OUT010</th>\n",
              "      <th>NaN</th>\n",
              "      <td>1.883402e+05</td>\n",
              "    </tr>\n",
              "    <tr>\n",
              "      <th>OUT013</th>\n",
              "      <th>High</th>\n",
              "      <td>2.142664e+06</td>\n",
              "    </tr>\n",
              "    <tr>\n",
              "      <th>OUT017</th>\n",
              "      <th>NaN</th>\n",
              "      <td>2.167465e+06</td>\n",
              "    </tr>\n",
              "    <tr>\n",
              "      <th>OUT018</th>\n",
              "      <th>Medium</th>\n",
              "      <td>1.851823e+06</td>\n",
              "    </tr>\n",
              "    <tr>\n",
              "      <th>OUT019</th>\n",
              "      <th>Small</th>\n",
              "      <td>1.795736e+05</td>\n",
              "    </tr>\n",
              "    <tr>\n",
              "      <th>OUT027</th>\n",
              "      <th>Medium</th>\n",
              "      <td>3.444468e+06</td>\n",
              "    </tr>\n",
              "    <tr>\n",
              "      <th>OUT035</th>\n",
              "      <th>Small</th>\n",
              "      <td>2.268123e+06</td>\n",
              "    </tr>\n",
              "    <tr>\n",
              "      <th>OUT045</th>\n",
              "      <th>NaN</th>\n",
              "      <td>2.036725e+06</td>\n",
              "    </tr>\n",
              "    <tr>\n",
              "      <th>OUT046</th>\n",
              "      <th>Small</th>\n",
              "      <td>2.118395e+06</td>\n",
              "    </tr>\n",
              "    <tr>\n",
              "      <th>OUT049</th>\n",
              "      <th>Medium</th>\n",
              "      <td>2.183970e+06</td>\n",
              "    </tr>\n",
              "  </tbody>\n",
              "</table>\n",
              "</div>"
            ],
            "text/plain": [
              "                               Item_Outlet_Sales\n",
              "Outlet_Identifier Outlet_Size                   \n",
              "OUT010            NaN               1.883402e+05\n",
              "OUT013            High              2.142664e+06\n",
              "OUT017            NaN               2.167465e+06\n",
              "OUT018            Medium            1.851823e+06\n",
              "OUT019            Small             1.795736e+05\n",
              "OUT027            Medium            3.444468e+06\n",
              "OUT035            Small             2.268123e+06\n",
              "OUT045            NaN               2.036725e+06\n",
              "OUT046            Small             2.118395e+06\n",
              "OUT049            Medium            2.183970e+06"
            ]
          },
          "execution_count": 114,
          "metadata": {},
          "output_type": "execute_result"
        }
      ],
      "source": [
        "# Show the mean sales of the Outlets\n",
        "food_sales_df.groupby(['Outlet_Identifier', 'Outlet_Size'], dropna=False)[['Item_Outlet_Sales']].sum()"
      ]
    },
    {
      "cell_type": "code",
      "execution_count": 115,
      "metadata": {},
      "outputs": [
        {
          "data": {
            "text/plain": [
              "Medium    2790\n",
              "NaN       2410\n",
              "Small     2387\n",
              "High       932\n",
              "Name: Outlet_Size, dtype: int64"
            ]
          },
          "execution_count": 115,
          "metadata": {},
          "output_type": "execute_result"
        }
      ],
      "source": [
        "# Output the most common size\n",
        "food_sales_df['Outlet_Size'].value_counts(dropna=False)"
      ]
    },
    {
      "attachments": {},
      "cell_type": "markdown",
      "metadata": {},
      "source": [
        "> * Based on the various outputs above, there appears to be a pattern:\n",
        ">   1. All rows that are labeled `Grocery Store` within the `Outlet_Type` column are either `Small` or `NaN` on the `Outlet_Size` column. Because of this, I believe it makes sense to change these `NaN` values to `Small`.\n",
        ">   2. All rows that are labeled `Tier 2` within the `Outlet_Location_Type` column are either `Small` or `NaN` on the `Outlet_Size` column. Because of this, I believe it makes sense to change these `NaN` values to `Small`.\n",
        "> * Though these patterns may be tenuous, I believe it is better and more well-informed than simply blindly filling in all the missing values with the most common occurence (Medium) without any reason except that it is the most common. Besides, there is only a 403 count different between the amount of times Medium and Small occur. If Medium appeared double the amount of times Small appeared I'd be more likely to change the missing values to Medium. Additionally, I believe using these patterns is better than assigning the missing values 'Unknown' since assigning them 'Unknown' adds a whole new category to the `Outlet_Size` column that was not in the original data. If no patterns were discerned, and the occurence counts were the same as they are now, I'd add `Unknown` as a new category."
      ]
    },
    {
      "cell_type": "code",
      "execution_count": 116,
      "metadata": {},
      "outputs": [
        {
          "data": {
            "text/plain": [
              "Small     4797\n",
              "Medium    2790\n",
              "High       932\n",
              "Name: Outlet_Size, dtype: int64"
            ]
          },
          "metadata": {},
          "output_type": "display_data"
        },
        {
          "data": {
            "text/plain": [
              "Item_Identifier              0\n",
              "Item_Weight                  0\n",
              "Item_Fat_Content             0\n",
              "Item_Visibility              0\n",
              "Item_Type                    0\n",
              "Item_MRP                     0\n",
              "Outlet_Identifier            0\n",
              "Outlet_Establishment_Year    0\n",
              "Outlet_Size                  0\n",
              "Outlet_Location_Type         0\n",
              "Outlet_Type                  0\n",
              "Item_Outlet_Sales            0\n",
              "dtype: int64"
            ]
          },
          "execution_count": 116,
          "metadata": {},
          "output_type": "execute_result"
        }
      ],
      "source": [
        "# Replace all missing values in the Outlet_Size column with small\n",
        "# for where the row has an Outlet_Type of Grocery_Store\n",
        "food_sales_df.loc[food_sales_df['Outlet_Type'] == 'Grocery Store', 'Outlet_Size'] = 'Small'\n",
        "\n",
        "# Replace all missing values in the Outlet_Size column with small\n",
        "# for where the row has an Outlet_Type of Grocery_Store\n",
        "food_sales_df.loc[food_sales_df['Outlet_Location_Type'] == 'Tier 2', 'Outlet_Size'] = 'Small'\n",
        "\n",
        "display(food_sales_df['Outlet_Size'].value_counts(dropna=False))\n",
        "food_sales_df.isna().sum()"
      ]
    },
    {
      "attachments": {},
      "cell_type": "markdown",
      "metadata": {},
      "source": [
        "> * No more missing values persist."
      ]
    },
    {
      "attachments": {},
      "cell_type": "markdown",
      "metadata": {},
      "source": [
        "#### _Summary Statistics_"
      ]
    },
    {
      "cell_type": "code",
      "execution_count": 117,
      "metadata": {},
      "outputs": [
        {
          "data": {
            "text/html": [
              "<div>\n",
              "<style scoped>\n",
              "    .dataframe tbody tr th:only-of-type {\n",
              "        vertical-align: middle;\n",
              "    }\n",
              "\n",
              "    .dataframe tbody tr th {\n",
              "        vertical-align: top;\n",
              "    }\n",
              "\n",
              "    .dataframe thead th {\n",
              "        text-align: right;\n",
              "    }\n",
              "</style>\n",
              "<table border=\"1\" class=\"dataframe\">\n",
              "  <thead>\n",
              "    <tr style=\"text-align: right;\">\n",
              "      <th></th>\n",
              "      <th>Item_Weight</th>\n",
              "      <th>Item_Visibility</th>\n",
              "      <th>Item_MRP</th>\n",
              "      <th>Outlet_Establishment_Year</th>\n",
              "      <th>Item_Outlet_Sales</th>\n",
              "    </tr>\n",
              "  </thead>\n",
              "  <tbody>\n",
              "    <tr>\n",
              "      <th>count</th>\n",
              "      <td>8519.000000</td>\n",
              "      <td>8519.000000</td>\n",
              "      <td>8519.000000</td>\n",
              "      <td>8519.000000</td>\n",
              "      <td>8519.000000</td>\n",
              "    </tr>\n",
              "    <tr>\n",
              "      <th>mean</th>\n",
              "      <td>12.875420</td>\n",
              "      <td>0.066112</td>\n",
              "      <td>141.010019</td>\n",
              "      <td>1997.837892</td>\n",
              "      <td>2181.188779</td>\n",
              "    </tr>\n",
              "    <tr>\n",
              "      <th>std</th>\n",
              "      <td>4.646098</td>\n",
              "      <td>0.051586</td>\n",
              "      <td>62.283594</td>\n",
              "      <td>8.369105</td>\n",
              "      <td>1706.511093</td>\n",
              "    </tr>\n",
              "    <tr>\n",
              "      <th>min</th>\n",
              "      <td>4.555000</td>\n",
              "      <td>0.000000</td>\n",
              "      <td>31.290000</td>\n",
              "      <td>1985.000000</td>\n",
              "      <td>33.290000</td>\n",
              "    </tr>\n",
              "    <tr>\n",
              "      <th>25%</th>\n",
              "      <td>8.785000</td>\n",
              "      <td>0.026983</td>\n",
              "      <td>93.844900</td>\n",
              "      <td>1987.000000</td>\n",
              "      <td>834.247400</td>\n",
              "    </tr>\n",
              "    <tr>\n",
              "      <th>50%</th>\n",
              "      <td>12.650000</td>\n",
              "      <td>0.053925</td>\n",
              "      <td>143.047000</td>\n",
              "      <td>1999.000000</td>\n",
              "      <td>1794.331000</td>\n",
              "    </tr>\n",
              "    <tr>\n",
              "      <th>75%</th>\n",
              "      <td>16.850000</td>\n",
              "      <td>0.094558</td>\n",
              "      <td>185.676600</td>\n",
              "      <td>2004.000000</td>\n",
              "      <td>3100.630600</td>\n",
              "    </tr>\n",
              "    <tr>\n",
              "      <th>max</th>\n",
              "      <td>21.350000</td>\n",
              "      <td>0.328391</td>\n",
              "      <td>266.888400</td>\n",
              "      <td>2009.000000</td>\n",
              "      <td>13086.964800</td>\n",
              "    </tr>\n",
              "  </tbody>\n",
              "</table>\n",
              "</div>"
            ],
            "text/plain": [
              "       Item_Weight  Item_Visibility     Item_MRP  Outlet_Establishment_Year  \\\n",
              "count  8519.000000      8519.000000  8519.000000                8519.000000   \n",
              "mean     12.875420         0.066112   141.010019                1997.837892   \n",
              "std       4.646098         0.051586    62.283594                   8.369105   \n",
              "min       4.555000         0.000000    31.290000                1985.000000   \n",
              "25%       8.785000         0.026983    93.844900                1987.000000   \n",
              "50%      12.650000         0.053925   143.047000                1999.000000   \n",
              "75%      16.850000         0.094558   185.676600                2004.000000   \n",
              "max      21.350000         0.328391   266.888400                2009.000000   \n",
              "\n",
              "       Item_Outlet_Sales  \n",
              "count        8519.000000  \n",
              "mean         2181.188779  \n",
              "std          1706.511093  \n",
              "min            33.290000  \n",
              "25%           834.247400  \n",
              "50%          1794.331000  \n",
              "75%          3100.630600  \n",
              "max         13086.964800  "
            ]
          },
          "execution_count": 117,
          "metadata": {},
          "output_type": "execute_result"
        }
      ],
      "source": [
        "# Show summary stats for numerical columns\n",
        "food_sales_df.describe()"
      ]
    },
    {
      "attachments": {},
      "cell_type": "markdown",
      "metadata": {},
      "source": [
        "> * It's worth noting that the mininum `Item_Visibility` value is 0, meaning there are rows that correspond to items in a store that have _**no**_ visibility. This is odd. However, I won't do anything about this just yet, since I currently do not know what I will be doing with the data."
      ]
    },
    {
      "attachments": {},
      "cell_type": "markdown",
      "metadata": {
        "id": "O-j3kw2vKrQ5"
      },
      "source": [
        "## Exploratory Visuals"
      ]
    },
    {
      "cell_type": "code",
      "execution_count": 164,
      "metadata": {},
      "outputs": [
        {
          "data": {
            "image/png": "[encoded data removed]",
            "text/plain": [
              "<Figure size 1200x400 with 5 Axes>"
            ]
          },
          "metadata": {},
          "output_type": "display_data"
        }
      ],
      "source": [
        "# Create multiple plots\n",
        "# Aside from the class readings, I used the following to help me do this:\n",
        "# https://www.statology.org/seaborn-subplots/\n",
        "# Set default Seaborn aesthetics\n",
        "sns.set()\n",
        "\n",
        "# Using Matplotlib, define plotting regions (3 rows, 2 columns)\n",
        "fig, axes = plt.subplots(nrows=2, ncols=3, figsize=(12, 4))\n",
        "\n",
        "# Fix tight layout. I used the following to help me do this:\n",
        "# https://stackoverflow.com/questions/6541123/improve-subplot-size-spacing-with-many-subplots\n",
        "fig.tight_layout()\n",
        "\n",
        "# Delete extra subplot. I used the following to help\n",
        "# https://stackoverflow.com/questions/44980658/remove-the-extra-plot-in-the-matplotlib-subplot\n",
        "fig.delaxes(axes[1, 2])\n",
        "\n",
        "# Further adjust the padding between subplots. I used the following for help: \n",
        "# https://stackoverflow.com/questions/43970609/how-to-adjust-space-between-matplotlib-seaborn-subplots-for-multi-plot-layouts\n",
        "# https://matplotlib.org/stable/api/_as_gen/matplotlib.pyplot.subplots_adjust.html\n",
        "plt.subplots_adjust(hspace=0.5, wspace=0.25)\n",
        "\n",
        "# Create the plots\n",
        "sns.histplot(data=food_sales_df, x='Item_Weight', ax=axes[0, 0], kde=True, color='Maroon')\n",
        "sns.histplot(data=food_sales_df, x='Item_Visibility', ax=axes[0, 1], kde=True, color='Maroon')\n",
        "sns.histplot(data=food_sales_df, x='Item_MRP', ax=axes[0, 2], kde=True, color='Maroon')\n",
        "sns.histplot(data=food_sales_df, x='Outlet_Establishment_Year', ax=axes[1, 0], kde=True, color='Maroon')\n",
        "sns.histplot(data=food_sales_df, x='Item_Outlet_Sales', ax=axes[1, 1], kde=True, color='Maroon');\n"
      ]
    },
    {
      "cell_type": "code",
      "execution_count": 119,
      "metadata": {
        "id": "EAu8bE0PKrQ6"
      },
      "outputs": [
        {
          "data": {
            "image/png": "[encoded data removed]",
            "text/plain": [
              "<Figure size 640x480 with 2 Axes>"
            ]
          },
          "metadata": {},
          "output_type": "display_data"
        }
      ],
      "source": [
        "correlations = food_sales_df.corr(numeric_only=True)\n",
        "sns.heatmap(correlations, cmap='Reds', annot=True);"
      ]
    },
    {
      "cell_type": "markdown",
      "metadata": {
        "id": "V5gWHaiuKrQ7"
      },
      "source": [
        "## Explanatory Visuals"
      ]
    },
    {
      "cell_type": "code",
      "execution_count": null,
      "metadata": {
        "id": "71tQs5VWKrQ8"
      },
      "outputs": [],
      "source": []
    }
  ],
  "metadata": {
    "colab": {
      "include_colab_link": true,
      "provenance": []
    },
    "kernelspec": {
      "display_name": "Python 3",
      "language": "python",
      "name": "python3"
    },
    "language_info": {
      "codemirror_mode": {
        "name": "ipython",
        "version": 3
      },
      "file_extension": ".py",
      "mimetype": "text/x-python",
      "name": "python",
      "nbconvert_exporter": "python",
      "pygments_lexer": "ipython3",
      "version": "3.10.10"
    },
    "orig_nbformat": 4,
    "vscode": {
      "interpreter": {
        "hash": "7e9e5ad401de39515058f8e476101bf27db3c0dd433738962d4efa9a7611ac1c"
      }
    }
  },
  "nbformat": 4,
  "nbformat_minor": 0
}
