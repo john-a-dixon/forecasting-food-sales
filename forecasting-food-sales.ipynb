{
  "cells": [
    {
      "attachments": {},
      "cell_type": "markdown",
      "metadata": {
        "id": "_stM8w55KrQ3"
      },
      "source": [
        "<a href=\"https://colab.research.google.com/github/john-a-dixon/forecasting-food-sales/blob/main/forecasting-food-sales.ipynb\" target=\"_parent\"><img src=\"https://colab.research.google.com/assets/colab-badge.svg\" alt=\"Open In Colab\"/></a>\n",
        "\n",
        "# ***Forecasting Food Sales***\n",
        "\n",
        "###### **by John Andrew Dixon**\n",
        "\n",
        "---\n",
        "\n",
        "## Loading Data\n",
        "\n",
        "#### *Data Dictionary*\n",
        "\n",
        "|**Variable Name**        |**Description**                                                                                    |\n",
        "|-------------------------|---------------------------------------------------------------------------------------------------|\n",
        "|Item_Identifier          |Unique Product ID                                                                                  |\n",
        "|Item_Weight              | Weight of product                                                                                 |\n",
        "|Item_Fat_Content         |Whether the product is low fat or regular                                                          |\n",
        "|Item_Visibility          |The percentage of total display area of all products in a store allocated to the particular product|\n",
        "|Item_Type                |The category to which the product belongs                                                          |\n",
        "|Item_MRP                 |Maximum Retail Price (list price) of the product                                                   |\n",
        "|Outlet_Identifier        |Unique store ID                                                                                    |\n",
        "|Outlet_Establishment_Year|The year in which the store was established                                                        |\n",
        "|Outlet_Size              |\tThe size of the store in terms of ground area covered                                             |\n",
        "|Outlet_Location_Type     |The type of area in which the store is located                                                     |\n",
        "|Outlet_Type              |Whether the outlet is a grocery store or some sort of supermarket                                  |\n",
        "|Item_Outlet_Sales        |Sales of the product in the particular store. This is the target variable to be predicted          |\n",
        "\n",
        "#### *Imports & Load*"
      ]
    },
    {
      "cell_type": "code",
      "execution_count": 3,
      "metadata": {},
      "outputs": [
        {
          "name": "stdout",
          "output_type": "stream",
          "text": [
            "<class 'pandas.core.frame.DataFrame'>\n",
            "RangeIndex: 8523 entries, 0 to 8522\n",
            "Data columns (total 12 columns):\n",
            " #   Column                     Non-Null Count  Dtype  \n",
            "---  ------                     --------------  -----  \n",
            " 0   Item_Identifier            8523 non-null   object \n",
            " 1   Item_Weight                7060 non-null   float64\n",
            " 2   Item_Fat_Content           8523 non-null   object \n",
            " 3   Item_Visibility            8523 non-null   float64\n",
            " 4   Item_Type                  8523 non-null   object \n",
            " 5   Item_MRP                   8523 non-null   float64\n",
            " 6   Outlet_Identifier          8523 non-null   object \n",
            " 7   Outlet_Establishment_Year  8523 non-null   int64  \n",
            " 8   Outlet_Size                6113 non-null   object \n",
            " 9   Outlet_Location_Type       8523 non-null   object \n",
            " 10  Outlet_Type                8523 non-null   object \n",
            " 11  Item_Outlet_Sales          8523 non-null   float64\n",
            "dtypes: float64(4), int64(1), object(7)\n",
            "memory usage: 799.2+ KB\n"
          ]
        }
      ],
      "source": [
        "# Import the Pandas module\n",
        "import pandas as pd\n",
        "\n",
        "# Load the data into a DataFrame\n",
        "food_sales_df = pd.read_csv('../../Datasets/sales_predictions.csv')\n",
        "\n",
        "# Verification\n",
        "food_sales_df.info()"
      ]
    },
    {
      "cell_type": "markdown",
      "metadata": {
        "id": "2NkjaWfBKrQ4"
      },
      "source": [
        "## Data Cleaning"
      ]
    },
    {
      "cell_type": "code",
      "execution_count": null,
      "metadata": {
        "id": "5AUagkqMKrQ5"
      },
      "outputs": [],
      "source": []
    },
    {
      "cell_type": "markdown",
      "metadata": {
        "id": "O-j3kw2vKrQ5"
      },
      "source": [
        "## Exploratory Visuals"
      ]
    },
    {
      "cell_type": "code",
      "execution_count": null,
      "metadata": {
        "id": "EAu8bE0PKrQ6"
      },
      "outputs": [],
      "source": []
    },
    {
      "cell_type": "markdown",
      "metadata": {
        "id": "V5gWHaiuKrQ7"
      },
      "source": [
        "## Explanatory Visuals"
      ]
    },
    {
      "cell_type": "code",
      "execution_count": null,
      "metadata": {
        "id": "71tQs5VWKrQ8"
      },
      "outputs": [],
      "source": []
    }
  ],
  "metadata": {
    "colab": {
      "include_colab_link": true,
      "provenance": []
    },
    "kernelspec": {
      "display_name": "Python 3",
      "language": "python",
      "name": "python3"
    },
    "language_info": {
      "codemirror_mode": {
        "name": "ipython",
        "version": 3
      },
      "file_extension": ".py",
      "mimetype": "text/x-python",
      "name": "python",
      "nbconvert_exporter": "python",
      "pygments_lexer": "ipython3",
      "version": "3.10.9"
    },
    "orig_nbformat": 4,
    "vscode": {
      "interpreter": {
        "hash": "7e9e5ad401de39515058f8e476101bf27db3c0dd433738962d4efa9a7611ac1c"
      }
    }
  },
  "nbformat": 4,
  "nbformat_minor": 0
}
